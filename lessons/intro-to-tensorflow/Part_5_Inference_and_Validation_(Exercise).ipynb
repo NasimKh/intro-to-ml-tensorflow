{
 "cells": [
  {
   "cell_type": "markdown",
   "metadata": {
    "colab_type": "text",
    "id": "zqcFCOmzHdDu"
   },
   "source": [
    "# Inference and Validation\n",
    "\n",
    "Now that you have a trained network, you can use it for making predictions. This is typically called **inference**, a term borrowed from statistics. However, neural networks have a tendency to perform *too well* on the training data and aren't able to generalize to data that hasn't been seen before. This is called **overfitting** and it impairs inference performance. To test for overfitting while training, we measure the performance on data not in the training set called the **validation** set. We avoid overfitting through regularization such as dropout while monitoring the validation performance during training."
   ]
  },
  {
   "cell_type": "markdown",
   "metadata": {
    "colab_type": "text",
    "id": "bmWozIIC46NB"
   },
   "source": [
    "## Import Resources"
   ]
  },
  {
   "cell_type": "code",
   "execution_count": 1,
   "metadata": {},
   "outputs": [],
   "source": [
    "import warnings\n",
    "warnings.filterwarnings('ignore')"
   ]
  },
  {
   "cell_type": "code",
   "execution_count": 2,
   "metadata": {
    "colab": {},
    "colab_type": "code",
    "id": "FVP2jRaGJ9qu"
   },
   "outputs": [],
   "source": [
    "%matplotlib inline\n",
    "%config InlineBackend.figure_format = 'retina'\n",
    "\n",
    "import numpy as np\n",
    "import matplotlib.pyplot as plt\n",
    "\n",
    "import tensorflow as tf\n",
    "import tensorflow_datasets as tfds\n",
    "tfds.disable_progress_bar()"
   ]
  },
  {
   "cell_type": "code",
   "execution_count": 3,
   "metadata": {},
   "outputs": [],
   "source": [
    "import logging\n",
    "logger = tf.get_logger()\n",
    "logger.setLevel(logging.ERROR)"
   ]
  },
  {
   "cell_type": "code",
   "execution_count": 4,
   "metadata": {
    "colab": {
     "base_uri": "https://localhost:8080/",
     "height": 85
    },
    "colab_type": "code",
    "id": "hYwKhqk_h6-y",
    "outputId": "72f54d14-8abc-4fc9-95bf-dd5c2cc1b56b"
   },
   "outputs": [
    {
     "name": "stdout",
     "output_type": "stream",
     "text": [
      "Using:\n",
      "\t• TensorFlow version: 2.0.0\n",
      "\t• tf.keras version: 2.2.4-tf\n",
      "\t• GPU device not found. Running on CPU\n"
     ]
    }
   ],
   "source": [
    "print('Using:')\n",
    "print('\\t\\u2022 TensorFlow version:', tf.__version__)\n",
    "print('\\t\\u2022 tf.keras version:', tf.keras.__version__)\n",
    "print('\\t\\u2022 Running on GPU' if tf.test.is_gpu_available() else '\\t\\u2022 GPU device not found. Running on CPU')"
   ]
  },
  {
   "cell_type": "markdown",
   "metadata": {
    "colab_type": "text",
    "id": "tPFaSI1S5CM3"
   },
   "source": [
    "## Load the Dataset\n",
    "\n",
    "We are now going to load the Fashion-MNIST dataset using tensorflow_datasets as we've done before. In this case, however, we are going to define how to split the dataset ourselves. We are going to split the dataset such that 60\\% of the data will be used for training, 20\\% of the data will be used for validation, and the remaining 20\\% of the data will be used for testing. \n",
    "\n",
    "To do this, we are going to do two things in succession. First we are going to combine (merge) the `train` and `test` splits. After the splits are merged into a single set, we are going to sub-split it into three sets, where the first set has 60\\% of the data, the second set has 20\\% of the data, and the third set has the remaining 20\\% of the data. \n",
    "\n",
    "To merge all the splits of a dataset together, we can use `split=tfds.Split.ALL`. For example,\n",
    "\n",
    "```python\n",
    "dataset = tfds.load('fashion_mnist', split=tfds.Split.ALL)\n",
    "```\n",
    "\n",
    "will return a `dataset` that contains a single set with 70,000 examples. This is because the Fashion-MNIST dataset has a `train` split with 60,000 examples and a `test` split with 10,000 examples. The `tfds.Split.ALL` keyword merged both splits into a single set containing the combined data from both splits. \n",
    "\n",
    "After we have merged the splits into a single set, we need to sub-split it. We can sub-split our dataset by using the `.subsplit()` method. There are various ways in which we can use the `.subsplit()` method. Here we are going to sub-split the data by providing the percentage of data we want in each set. To do this we just pass a list with percentages we want in each set. For example,\n",
    "\n",
    "```python\n",
    "split=tfds.Split.ALL.subsplit([60,20,20])\n",
    "```\n",
    "\n",
    "will sub-split our dataset into three sets, where the first set has 60\\% of the data, the second set has 20\\% of the data, and the third set has the remaining 20\\% of the data. A word of **caution**, TensorFlow Datasets does not guarantee the reproducibility of the sub-split operations. That means, that two different users working on the same version of a dataset and using the same sub-split operations could end-up with two different sets of examples. Also, if a user regenerates the data, the sub-splits may no longer be the same. To learn more about `subsplit` and other ways to sub-split your data visit the [Split Documentation](https://www.tensorflow.org/datasets/splits#subsplit)."
   ]
  },
  {
   "cell_type": "code",
   "execution_count": 5,
   "metadata": {
    "colab": {
     "base_uri": "https://localhost:8080/",
     "height": 207
    },
    "colab_type": "code",
    "id": "bgIzJ4oRLQpd",
    "outputId": "a79abec7-96bb-4b4b-cf34-399447bb9814"
   },
   "outputs": [],
   "source": [
    "train_split = 60\n",
    "test_val_split = 20\n",
    "\n",
    "splits = tfds.Split.ALL.subsplit([train_split, test_val_split, test_val_split])\n",
    "\n",
    "dataset, dataset_info = tfds.load('fashion_mnist', split=splits, as_supervised=True, with_info=True)\n",
    "\n",
    "training_set, validation_set, test_set = dataset"
   ]
  },
  {
   "cell_type": "markdown",
   "metadata": {
    "colab_type": "text",
    "id": "jNJA3Xe-A4q_"
   },
   "source": [
    "When we use `split=tfds.Split.ALL.subsplit([60,20,20])`, `tensorflow_datasets` returns a tuple with our sub-splits. Since we divided our dataset into 3 sets, then, in this case, `dataset` should be a tuple with 3 elements."
   ]
  },
  {
   "cell_type": "code",
   "execution_count": 6,
   "metadata": {
    "colab": {
     "base_uri": "https://localhost:8080/",
     "height": 51
    },
    "colab_type": "code",
    "id": "3OBvm_yf5ijj",
    "outputId": "d239ea33-ce86-4817-fe04-2e4785d7fd5d"
   },
   "outputs": [
    {
     "name": "stdout",
     "output_type": "stream",
     "text": [
      "dataset has type: <class 'tuple'>\n",
      "dataset has 3 elements \n"
     ]
    }
   ],
   "source": [
    "# Check that dataset is a tuple\n",
    "print('dataset has type:', type(dataset))\n",
    "\n",
    "# Print the number of elements in dataset\n",
    "print('dataset has {:,} elements '.format(len(dataset)))"
   ]
  },
  {
   "cell_type": "code",
   "execution_count": 7,
   "metadata": {
    "colab": {
     "base_uri": "https://localhost:8080/",
     "height": 68
    },
    "colab_type": "code",
    "id": "MGwZVYsj6OXe",
    "outputId": "605bf42a-34cd-4a36-9907-ec2c16beeb11"
   },
   "outputs": [
    {
     "data": {
      "text/plain": [
       "(<_OptionsDataset shapes: ((28, 28, 1), ()), types: (tf.uint8, tf.int64)>,\n",
       " <_OptionsDataset shapes: ((28, 28, 1), ()), types: (tf.uint8, tf.int64)>,\n",
       " <_OptionsDataset shapes: ((28, 28, 1), ()), types: (tf.uint8, tf.int64)>)"
      ]
     },
     "execution_count": 7,
     "metadata": {},
     "output_type": "execute_result"
    }
   ],
   "source": [
    "# Display dataset\n",
    "dataset"
   ]
  },
  {
   "cell_type": "code",
   "execution_count": 8,
   "metadata": {
    "colab": {
     "base_uri": "https://localhost:8080/",
     "height": 598
    },
    "colab_type": "code",
    "id": "2HL4BL_lnz2z",
    "outputId": "a7558de0-93b8-4f40-80e9-e378ce248fc4"
   },
   "outputs": [
    {
     "data": {
      "text/plain": [
       "tfds.core.DatasetInfo(\n",
       "    name='fashion_mnist',\n",
       "    version=1.0.0,\n",
       "    description='Fashion-MNIST is a dataset of Zalando's article images consisting of a training set of 60,000 examples and a test set of 10,000 examples. Each example is a 28x28 grayscale image, associated with a label from 10 classes.',\n",
       "    urls=['https://github.com/zalandoresearch/fashion-mnist'],\n",
       "    features=FeaturesDict({\n",
       "        'image': Image(shape=(28, 28, 1), dtype=tf.uint8),\n",
       "        'label': ClassLabel(shape=(), dtype=tf.int64, num_classes=10),\n",
       "    }),\n",
       "    total_num_examples=70000,\n",
       "    splits={\n",
       "        'test': 10000,\n",
       "        'train': 60000,\n",
       "    },\n",
       "    supervised_keys=('image', 'label'),\n",
       "    citation=\"\"\"@article{DBLP:journals/corr/abs-1708-07747,\n",
       "      author    = {Han Xiao and\n",
       "                   Kashif Rasul and\n",
       "                   Roland Vollgraf},\n",
       "      title     = {Fashion-MNIST: a Novel Image Dataset for Benchmarking Machine Learning\n",
       "                   Algorithms},\n",
       "      journal   = {CoRR},\n",
       "      volume    = {abs/1708.07747},\n",
       "      year      = {2017},\n",
       "      url       = {http://arxiv.org/abs/1708.07747},\n",
       "      archivePrefix = {arXiv},\n",
       "      eprint    = {1708.07747},\n",
       "      timestamp = {Mon, 13 Aug 2018 16:47:27 +0200},\n",
       "      biburl    = {https://dblp.org/rec/bib/journals/corr/abs-1708-07747},\n",
       "      bibsource = {dblp computer science bibliography, https://dblp.org}\n",
       "    }\"\"\",\n",
       "    redistribution_info=,\n",
       ")"
      ]
     },
     "execution_count": 8,
     "metadata": {},
     "output_type": "execute_result"
    }
   ],
   "source": [
    "# Display dataset_info\n",
    "dataset_info"
   ]
  },
  {
   "cell_type": "markdown",
   "metadata": {
    "colab_type": "text",
    "id": "14QBpBlU5sOm"
   },
   "source": [
    "## Explore the Dataset"
   ]
  },
  {
   "cell_type": "code",
   "execution_count": 9,
   "metadata": {
    "colab": {
     "base_uri": "https://localhost:8080/",
     "height": 68
    },
    "colab_type": "code",
    "id": "_GnHgnh-eSuf",
    "outputId": "156da5c6-bc6c-4d8a-8768-26d4f48c2e13"
   },
   "outputs": [
    {
     "name": "stdout",
     "output_type": "stream",
     "text": [
      "There are 42,000 images in the training set\n",
      "There are 14,000 images in the validation set\n",
      "There are 14,000 images in the test set\n"
     ]
    }
   ],
   "source": [
    "total_examples = dataset_info.splits['train'].num_examples + dataset_info.splits['test'].num_examples\n",
    "\n",
    "num_training_examples = (total_examples * train_split) // 100\n",
    "num_validation_examples = (total_examples * test_val_split) // 100\n",
    "num_test_examples = num_validation_examples\n",
    "\n",
    "print('There are {:,} images in the training set'.format(num_training_examples))\n",
    "print('There are {:,} images in the validation set'.format(num_validation_examples))\n",
    "print('There are {:,} images in the test set'.format(num_test_examples))"
   ]
  },
  {
   "cell_type": "code",
   "execution_count": 10,
   "metadata": {
    "colab": {},
    "colab_type": "code",
    "id": "4WMKWKxPcgOU"
   },
   "outputs": [],
   "source": [
    "class_names = ['T-shirt/top', 'Trouser', 'Pullover', 'Dress', 'Coat', \n",
    "               'Sandal',      'Shirt',   'Sneaker',  'Bag',   'Ankle boot']"
   ]
  },
  {
   "cell_type": "markdown",
   "metadata": {
    "colab_type": "text",
    "id": "xlHOpMIq5yYa"
   },
   "source": [
    "## Create Pipeline"
   ]
  },
  {
   "cell_type": "code",
   "execution_count": 11,
   "metadata": {
    "colab": {},
    "colab_type": "code",
    "id": "mBAzrt_nUfNZ"
   },
   "outputs": [],
   "source": [
    "def normalize(image, label):\n",
    "    image = tf.cast(image, tf.float32)\n",
    "    image /= 255\n",
    "    return image, label\n",
    "\n",
    "batch_size = 64\n",
    "\n",
    "training_batches = training_set.cache().shuffle(num_training_examples//4).batch(batch_size).map(normalize).prefetch(1)\n",
    "validation_batches = validation_set.cache().batch(batch_size).map(normalize).prefetch(1)\n",
    "testing_batches = test_set.cache().batch(batch_size).map(normalize).prefetch(1)"
   ]
  },
  {
   "cell_type": "markdown",
   "metadata": {
    "colab_type": "text",
    "id": "39MO_CpdneIY"
   },
   "source": [
    "## Build the Model\n",
    "\n",
    "Here we'll build and compile our model as usual."
   ]
  },
  {
   "cell_type": "code",
   "execution_count": 12,
   "metadata": {
    "colab": {},
    "colab_type": "code",
    "id": "agzupDJxnekW"
   },
   "outputs": [],
   "source": [
    "model = tf.keras.Sequential([\n",
    "        tf.keras.layers.Flatten(input_shape=(28,28,1)),\n",
    "        tf.keras.layers.Dense(256, activation = 'relu'),\n",
    "        tf.keras.layers.Dense(128, activation = 'relu'),\n",
    "        tf.keras.layers.Dense(64, activation = 'relu'),\n",
    "        tf.keras.layers.Dense(10, activation = 'softmax')\n",
    "])"
   ]
  },
  {
   "cell_type": "code",
   "execution_count": 13,
   "metadata": {
    "colab": {},
    "colab_type": "code",
    "id": "uI0kZt-cpbXO"
   },
   "outputs": [],
   "source": [
    "model.compile(optimizer='adam',\n",
    "              loss='sparse_categorical_crossentropy',\n",
    "              metrics=['accuracy'])"
   ]
  },
  {
   "cell_type": "markdown",
   "metadata": {
    "colab_type": "text",
    "id": "-cyd0DQSoazb"
   },
   "source": [
    "## Evaluate Loss and Accuracy on the Test Set\n",
    "\n",
    "The goal of validation is to measure the model's performance on data that isn't part of the training set. Performance here is up to the developer to define though. Typically this is just accuracy, the percentage of classes the network predicted correctly. Other options are [precision and recall](https://en.wikipedia.org/wiki/Precision_and_recall#Definition_(classification_context)) and top-5 error rate. We'll focus on accuracy here. Let's see how the model performs on our test set."
   ]
  },
  {
   "cell_type": "code",
   "execution_count": 14,
   "metadata": {
    "colab": {
     "base_uri": "https://localhost:8080/",
     "height": 85
    },
    "colab_type": "code",
    "id": "P3kE7BEAobKs",
    "outputId": "7e140d18-5cdc-404c-f3da-21310456965e"
   },
   "outputs": [
    {
     "name": "stdout",
     "output_type": "stream",
     "text": [
      "219/219 [==============================] - 22s 99ms/step - loss: 2.3277 - accuracy: 0.1399\n",
      "\n",
      "Loss on the TEST Set: 2.328\n",
      "Accuracy on the TEST Set: 13.993%\n"
     ]
    }
   ],
   "source": [
    "loss, accuracy = model.evaluate(testing_batches)\n",
    "\n",
    "print('\\nLoss on the TEST Set: {:,.3f}'.format(loss))\n",
    "print('Accuracy on the TEST Set: {:.3%}'.format(accuracy))"
   ]
  },
  {
   "cell_type": "markdown",
   "metadata": {
    "colab_type": "text",
    "id": "mx52hCxlp27g"
   },
   "source": [
    "The network is untrained so it's making random guesses and we should see an accuracy around 10%."
   ]
  },
  {
   "cell_type": "markdown",
   "metadata": {
    "colab_type": "text",
    "id": "ziyVd9R76H25"
   },
   "source": [
    "## Train the Model with the Validation Set\n",
    "\n",
    "Now let's train our network as usual, but this time we are also going to incorporate our validation set into the training process. \n",
    "\n",
    "During training, the model will only use the training set in order to decide how to modify its weights and biases. Then, after every training epoch we calculate the loss on the training and validation sets. These metrics tell us how well our model is \"learning\" because it they show how well the model generalizes to data that is not used for training. It's important to remember that the model does not use any part of the validation set to tune its weights and biases, therefore it can tell us if we're overfitting the training set.\n",
    "\n",
    "We can incorporate our validation set into the training process by including the `validation_data=validation_batches` argument in the `.fit` method."
   ]
  },
  {
   "cell_type": "code",
   "execution_count": 15,
   "metadata": {
    "colab": {
     "base_uri": "https://localhost:8080/",
     "height": 1000
    },
    "colab_type": "code",
    "id": "GFmdnOz1pNoa",
    "outputId": "538cb017-140c-4ece-e515-08083b3eaf29"
   },
   "outputs": [
    {
     "name": "stdout",
     "output_type": "stream",
     "text": [
      "Epoch 1/30\n",
      "657/657 [==============================] - 74s 112ms/step - loss: 0.5343 - accuracy: 0.8092 - val_loss: 0.0000e+00 - val_accuracy: 0.0000e+00\n",
      "Epoch 2/30\n",
      "657/657 [==============================] - 8s 12ms/step - loss: 0.3880 - accuracy: 0.8588 - val_loss: 0.3625 - val_accuracy: 0.8686\n",
      "Epoch 3/30\n",
      "657/657 [==============================] - 7s 11ms/step - loss: 0.3459 - accuracy: 0.8732 - val_loss: 0.4048 - val_accuracy: 0.8430\n",
      "Epoch 4/30\n",
      "657/657 [==============================] - 7s 11ms/step - loss: 0.3226 - accuracy: 0.8794 - val_loss: 0.3483 - val_accuracy: 0.8769\n",
      "Epoch 5/30\n",
      "657/657 [==============================] - 8s 12ms/step - loss: 0.2979 - accuracy: 0.8890 - val_loss: 0.3392 - val_accuracy: 0.8799\n",
      "Epoch 6/30\n",
      "657/657 [==============================] - 7s 11ms/step - loss: 0.2859 - accuracy: 0.8920 - val_loss: 0.3402 - val_accuracy: 0.8804\n",
      "Epoch 7/30\n",
      "657/657 [==============================] - 7s 11ms/step - loss: 0.2700 - accuracy: 0.8966 - val_loss: 0.3527 - val_accuracy: 0.8746\n",
      "Epoch 8/30\n",
      "657/657 [==============================] - 8s 13ms/step - loss: 0.2576 - accuracy: 0.9030 - val_loss: 0.3245 - val_accuracy: 0.8815\n",
      "Epoch 9/30\n",
      "657/657 [==============================] - 13s 19ms/step - loss: 0.2534 - accuracy: 0.9052 - val_loss: 0.3326 - val_accuracy: 0.8809\n",
      "Epoch 10/30\n",
      "657/657 [==============================] - 12s 18ms/step - loss: 0.2397 - accuracy: 0.9091 - val_loss: 0.3426 - val_accuracy: 0.8823\n",
      "Epoch 11/30\n",
      "657/657 [==============================] - 13s 19ms/step - loss: 0.2294 - accuracy: 0.9128 - val_loss: 0.3220 - val_accuracy: 0.8881\n",
      "Epoch 12/30\n",
      "657/657 [==============================] - 12s 19ms/step - loss: 0.2229 - accuracy: 0.9159 - val_loss: 0.3293 - val_accuracy: 0.8883\n",
      "Epoch 13/30\n",
      "657/657 [==============================] - 9s 14ms/step - loss: 0.2152 - accuracy: 0.9157 - val_loss: 0.3258 - val_accuracy: 0.8894\n",
      "Epoch 14/30\n",
      "657/657 [==============================] - 9s 14ms/step - loss: 0.2113 - accuracy: 0.9203 - val_loss: 0.3452 - val_accuracy: 0.8844\n",
      "Epoch 15/30\n",
      "657/657 [==============================] - 9s 14ms/step - loss: 0.1978 - accuracy: 0.9244 - val_loss: 0.3419 - val_accuracy: 0.8872\n",
      "Epoch 16/30\n",
      "657/657 [==============================] - 9s 13ms/step - loss: 0.1897 - accuracy: 0.9269 - val_loss: 0.3244 - val_accuracy: 0.8966\n",
      "Epoch 17/30\n",
      "657/657 [==============================] - 9s 14ms/step - loss: 0.1866 - accuracy: 0.9285 - val_loss: 0.3497 - val_accuracy: 0.8912\n",
      "Epoch 18/30\n",
      "657/657 [==============================] - 10s 15ms/step - loss: 0.1794 - accuracy: 0.9326 - val_loss: 0.3520 - val_accuracy: 0.8909\n",
      "Epoch 19/30\n",
      "657/657 [==============================] - 10s 16ms/step - loss: 0.1741 - accuracy: 0.9349 - val_loss: 0.3735 - val_accuracy: 0.8822\n",
      "Epoch 20/30\n",
      "657/657 [==============================] - 11s 17ms/step - loss: 0.1650 - accuracy: 0.9374 - val_loss: 0.4128 - val_accuracy: 0.8843\n",
      "Epoch 21/30\n",
      "657/657 [==============================] - 9s 14ms/step - loss: 0.1676 - accuracy: 0.9366 - val_loss: 0.3571 - val_accuracy: 0.8923\n",
      "Epoch 22/30\n",
      "657/657 [==============================] - 9s 13ms/step - loss: 0.1575 - accuracy: 0.9405 - val_loss: 0.3844 - val_accuracy: 0.8884\n",
      "Epoch 23/30\n",
      "657/657 [==============================] - 9s 14ms/step - loss: 0.1537 - accuracy: 0.9421 - val_loss: 0.3793 - val_accuracy: 0.8881\n",
      "Epoch 24/30\n",
      "657/657 [==============================] - 11s 16ms/step - loss: 0.1500 - accuracy: 0.9434 - val_loss: 0.3894 - val_accuracy: 0.8903\n",
      "Epoch 25/30\n",
      "657/657 [==============================] - 12s 19ms/step - loss: 0.1490 - accuracy: 0.9441 - val_loss: 0.3920 - val_accuracy: 0.8877\n",
      "Epoch 26/30\n",
      "657/657 [==============================] - 11s 17ms/step - loss: 0.1414 - accuracy: 0.9462 - val_loss: 0.4048 - val_accuracy: 0.8925\n",
      "Epoch 27/30\n",
      "657/657 [==============================] - 10s 15ms/step - loss: 0.1398 - accuracy: 0.9470 - val_loss: 0.4142 - val_accuracy: 0.8886\n",
      "Epoch 28/30\n",
      "657/657 [==============================] - 10s 16ms/step - loss: 0.1333 - accuracy: 0.9486 - val_loss: 0.3960 - val_accuracy: 0.8954\n",
      "Epoch 29/30\n",
      "657/657 [==============================] - 12s 19ms/step - loss: 0.1290 - accuracy: 0.9505 - val_loss: 0.4250 - val_accuracy: 0.8836\n",
      "Epoch 30/30\n",
      "657/657 [==============================] - 8s 13ms/step - loss: 0.1251 - accuracy: 0.9526 - val_loss: 0.4483 - val_accuracy: 0.8911\n"
     ]
    }
   ],
   "source": [
    "EPOCHS = 30\n",
    "\n",
    "history = model.fit(training_batches,\n",
    "                    epochs = EPOCHS,\n",
    "                    validation_data=validation_batches)"
   ]
  },
  {
   "cell_type": "markdown",
   "metadata": {
    "colab_type": "text",
    "id": "CMQnPRTwPZbU"
   },
   "source": [
    "## Loss and Validation Plots\n",
    "\n",
    "If we look at the training and validation losses achieved on epoch 30 above, we see that the loss on the training set is much lower than that achieved on the validation set. This is a clear sign of overfitting. In other words, our model has \"memorized\" the training set so it performs really well on it, but when tested on data that it wasn't trained on (*i.e.* the validation dataset) it performs poorly. \n",
    "\n",
    "Let's take a look at the model's loss and accuracy values obtained during training on both the training set and the validation set. This will allow us to see how well or how bad our model is \"learning\". We can do this easily by using the `history` object returned by the `.fit` method. The  `history.history` attribute is a **dictionary** with a record of training accuracy and loss values at successive epochs, as well as validation accuracy and loss values when applicable. "
   ]
  },
  {
   "cell_type": "code",
   "execution_count": null,
   "metadata": {
    "colab": {
     "base_uri": "https://localhost:8080/",
     "height": 68
    },
    "colab_type": "code",
    "id": "EYjSIPoO6hXC",
    "outputId": "bc4ff436-db55-4d55-f6d4-82003b9ecd50"
   },
   "outputs": [],
   "source": [
    "# Check that history.history is a dictionary\n",
    "print('history.history has type:', type(history.history))\n",
    "\n",
    "# Print the keys of the history.history dictionary\n",
    "print('\\nThe keys of history.history are:', list(history.history.keys()))"
   ]
  },
  {
   "cell_type": "markdown",
   "metadata": {
    "colab_type": "text",
    "id": "QyUfyPzD9hLA"
   },
   "source": [
    "Let's use the `history.history` dictionary to plot our model's loss and accuracy values obtained during training."
   ]
  },
  {
   "cell_type": "code",
   "execution_count": null,
   "metadata": {
    "colab": {
     "base_uri": "https://localhost:8080/",
     "height": 498
    },
    "colab_type": "code",
    "id": "wDFZCZnArx1T",
    "outputId": "1f696a01-ceaf-4a65-b04a-cb33ddc8d09a"
   },
   "outputs": [],
   "source": [
    "training_accuracy = history.history['accuracy']\n",
    "validation_accuracy = history.history['val_accuracy']\n",
    "\n",
    "training_loss = history.history['loss']\n",
    "validation_loss = history.history['val_loss']\n",
    "\n",
    "epochs_range=range(EPOCHS)\n",
    "\n",
    "plt.figure(figsize=(8, 8))\n",
    "plt.subplot(1, 2, 1)\n",
    "plt.plot(epochs_range, training_accuracy, label='Training Accuracy')\n",
    "plt.plot(epochs_range, validation_accuracy, label='Validation Accuracy')\n",
    "plt.legend(loc='lower right')\n",
    "plt.title('Training and Validation Accuracy')\n",
    "\n",
    "plt.subplot(1, 2, 2)\n",
    "plt.plot(epochs_range, training_loss, label='Training Loss')\n",
    "plt.plot(epochs_range, validation_loss, label='Validation Loss')\n",
    "plt.legend(loc='upper right')\n",
    "plt.title('Training and Validation Loss')\n",
    "plt.show()"
   ]
  },
  {
   "cell_type": "markdown",
   "metadata": {
    "colab_type": "text",
    "id": "MzkpAw5SP4cI"
   },
   "source": [
    "## Early Stopping\n",
    "\n",
    "If we look at the training and validation losses as we train the network, we can see a phenomenon known as overfitting. \n",
    "This happens when our model performs really well on the training data but it fails to generalize well enough to also perform well on the validation set. We can tell that this is happening because when we finished training the validation loss is higher than the training loss.\n",
    "\n",
    "One way to prevent our model from overfitting is by stopping training when we achieve the lowest validation loss. If we take a look at the plots we can see that at the beginning of training the validation loss starts decreasing, then after some epochs it levels off, and then it just starts increasing. Therefore, we can stop training our model when the validation loss levels off, such that our network is accurate but it's not overfitting.\n",
    "\n",
    "This strategy is called **early-stopping**. We can implement early stopping in `tf.keras` by using a **callback**. A callback is a set of functions to be applied at given stages of the training process. You can pass a list of callbacks to the `.fit()` method by using the `callbacks` keyword argument. \n",
    "\n",
    "To implement early-stopping during training we will use the callback:\n",
    "\n",
    "\n",
    "```python\n",
    "tf.keras.callbacks.EarlyStopping(monitor='val_loss', patience=5)\n",
    "```\n",
    "\n",
    "The `monitor` argument specifies the quantity we want to monitor during training to determine when to stop training. The `patience` argument determines the number of consecutive epochs with no significant improvement after which training will be stopped. We can also specify the minimum change in the monitored quantity to qualify as an improvement, by specifying the `min_delta` argument. For more information on the early-stopping callback check out the [EarlyStopping \n",
    "documentation](https://www.tensorflow.org/versions/r2.0/api_docs/python/tf/keras/callbacks/EarlyStopping#class_earlystopping)."
   ]
  },
  {
   "cell_type": "code",
   "execution_count": null,
   "metadata": {
    "colab": {
     "base_uri": "https://localhost:8080/",
     "height": 425
    },
    "colab_type": "code",
    "id": "1Ch_iMqOQ6K3",
    "outputId": "5717abb0-17ca-48cc-b4f5-b1bca74af9c0"
   },
   "outputs": [],
   "source": [
    "model = tf.keras.Sequential([\n",
    "        tf.keras.layers.Flatten(input_shape=(28,28,1)),\n",
    "        tf.keras.layers.Dense(256, activation = 'relu'),\n",
    "        tf.keras.layers.Dense(128, activation = 'relu'),\n",
    "        tf.keras.layers.Dense(64, activation = 'relu'),\n",
    "        tf.keras.layers.Dense(10, activation = 'softmax')\n",
    "])\n",
    "\n",
    "model.compile(optimizer='adam',\n",
    "              loss='sparse_categorical_crossentropy',\n",
    "              metrics=['accuracy'])\n",
    "\n",
    "# Stop training when there is no improvement in the validation loss for 5 consecutive epochs\n",
    "early_stopping = tf.keras.callbacks.EarlyStopping(monitor='val_loss', patience=5)\n",
    "\n",
    "history = model.fit(training_batches,\n",
    "                    epochs = 100,\n",
    "                    validation_data=validation_batches,\n",
    "                    callbacks=[early_stopping])"
   ]
  },
  {
   "cell_type": "code",
   "execution_count": null,
   "metadata": {
    "colab": {
     "base_uri": "https://localhost:8080/",
     "height": 498
    },
    "colab_type": "code",
    "id": "mcyx8WQHVxEW",
    "outputId": "07ce0c7e-4263-4af9-91ba-cb5d82dd694f"
   },
   "outputs": [],
   "source": [
    "training_accuracy = history.history['accuracy']\n",
    "validation_accuracy = history.history['val_accuracy']\n",
    "\n",
    "training_loss = history.history['loss']\n",
    "validation_loss = history.history['val_loss']\n",
    "\n",
    "epochs_range=range(len(training_accuracy))\n",
    "\n",
    "plt.figure(figsize=(8, 8))\n",
    "plt.subplot(1, 2, 1)\n",
    "plt.plot(epochs_range, training_accuracy, label='Training Accuracy')\n",
    "plt.plot(epochs_range, validation_accuracy, label='Validation Accuracy')\n",
    "plt.legend(loc='lower right')\n",
    "plt.title('Training and Validation Accuracy')\n",
    "\n",
    "plt.subplot(1, 2, 2)\n",
    "plt.plot(epochs_range, training_loss, label='Training Loss')\n",
    "plt.plot(epochs_range, validation_loss, label='Validation Loss')\n",
    "plt.legend(loc='upper right')\n",
    "plt.title('Training and Validation Loss')\n",
    "plt.show()"
   ]
  },
  {
   "cell_type": "markdown",
   "metadata": {
    "colab_type": "text",
    "id": "dSNjBbarspdj"
   },
   "source": [
    "## Dropout\n",
    "\n",
    "Another common method to reduce overfitting is called **dropout**, where we randomly drop neurons in our model during training. This forces the network to share information between weights, increasing its ability to generalize to new data. We can implement dropout in `tf.keras` by adding `tf.keras.layers.Dropout()` layers to our models. \n",
    "\n",
    "```python\n",
    "tf.keras.layers.Dropout(rate)\n",
    "```\n",
    "randomly sets a fraction `rate` of the dropout layer's input units to 0 at each update during training. The `rate` argument is a float between 0 and 1, that determines the fraction of neurons from the previous layer that should be turned off. For example,  `rate =0.5` will drop 50\\% of the neurons. \n",
    "\n",
    "It's important to note that we should never apply dropout to the input layer of our network. Also, remember that during training we want to use dropout to prevent overfitting, but during inference we want to use all the neurons in the network. `tf.keras` is designed to care of this automatically, so it uses the dropout layers during training, but automatically ignores them during inference."
   ]
  },
  {
   "cell_type": "markdown",
   "metadata": {
    "colab_type": "text",
    "id": "ABj6x-zss0I1"
   },
   "source": [
    "> **Exercise:** Add 3 dropout layers with a `rate=0.2` to our previous `model` and train it on Fashion-MNIST again. See if you can get a lower validation loss."
   ]
  },
  {
   "cell_type": "code",
   "execution_count": 17,
   "metadata": {
    "colab": {
     "base_uri": "https://localhost:8080/",
     "height": 1000
    },
    "colab_type": "code",
    "id": "IvSOnFdBsfbL",
    "outputId": "83adf78f-bbaf-456f-ce94-2449834e5864"
   },
   "outputs": [],
   "source": [
    "## Solution\n",
    "model.add(tf.keras.layers.Dropout(rate = 0.2))\n",
    "model.add(tf.keras.layers.Dropout(rate = 0.2))\n",
    "model.add(tf.keras.layers.Dropout(rate = 0.2))\n"
   ]
  },
  {
   "cell_type": "code",
   "execution_count": 18,
   "metadata": {},
   "outputs": [
    {
     "name": "stdout",
     "output_type": "stream",
     "text": [
      "Model: \"sequential\"\n",
      "_________________________________________________________________\n",
      "Layer (type)                 Output Shape              Param #   \n",
      "=================================================================\n",
      "flatten (Flatten)            (None, 784)               0         \n",
      "_________________________________________________________________\n",
      "dense (Dense)                (None, 256)               200960    \n",
      "_________________________________________________________________\n",
      "dense_1 (Dense)              (None, 128)               32896     \n",
      "_________________________________________________________________\n",
      "dense_2 (Dense)              (None, 64)                8256      \n",
      "_________________________________________________________________\n",
      "dense_3 (Dense)              (None, 10)                650       \n",
      "_________________________________________________________________\n",
      "dropout (Dropout)            (None, 10)                0         \n",
      "_________________________________________________________________\n",
      "dropout_1 (Dropout)          (None, 10)                0         \n",
      "_________________________________________________________________\n",
      "dropout_2 (Dropout)          (None, 10)                0         \n",
      "=================================================================\n",
      "Total params: 242,762\n",
      "Trainable params: 242,762\n",
      "Non-trainable params: 0\n",
      "_________________________________________________________________\n"
     ]
    }
   ],
   "source": [
    "model.summary()"
   ]
  },
  {
   "cell_type": "code",
   "execution_count": 19,
   "metadata": {},
   "outputs": [
    {
     "name": "stdout",
     "output_type": "stream",
     "text": [
      "Epoch 1/100\n",
      "657/657 [==============================] - 14s 21ms/step - loss: 1.9139 - accuracy: 0.4893 - val_loss: 0.0000e+00 - val_accuracy: 0.0000e+00\n",
      "Epoch 2/100\n",
      "657/657 [==============================] - 9s 13ms/step - loss: 1.8740 - accuracy: 0.4879 - val_loss: 1.4209 - val_accuracy: 0.8839\n",
      "Epoch 3/100\n",
      "657/657 [==============================] - 8s 11ms/step - loss: 1.8759 - accuracy: 0.4948 - val_loss: 1.4843 - val_accuracy: 0.8816\n",
      "Epoch 4/100\n",
      "657/657 [==============================] - 8s 12ms/step - loss: 1.8575 - accuracy: 0.4938 - val_loss: 1.7509 - val_accuracy: 0.8650\n",
      "Epoch 5/100\n",
      "657/657 [==============================] - 9s 14ms/step - loss: 1.8079 - accuracy: 0.4980 - val_loss: 1.4531 - val_accuracy: 0.8784\n",
      "Epoch 6/100\n",
      "657/657 [==============================] - 9s 14ms/step - loss: 1.8380 - accuracy: 0.5013 - val_loss: 1.6638 - val_accuracy: 0.8759\n",
      "Epoch 7/100\n",
      "657/657 [==============================] - 9s 13ms/step - loss: 1.8246 - accuracy: 0.5028 - val_loss: 1.5574 - val_accuracy: 0.8784\n"
     ]
    }
   ],
   "source": [
    "model.compile(optimizer='adam',\n",
    "              loss='sparse_categorical_crossentropy',\n",
    "              metrics=['accuracy'])\n",
    "\n",
    "# Stop training when there is no improvement in the validation loss for 5 consecutive epochs\n",
    "early_stopping = tf.keras.callbacks.EarlyStopping(monitor='val_loss', patience=5)\n",
    "\n",
    "history = model.fit(training_batches,\n",
    "                    epochs = 100,\n",
    "                    validation_data=validation_batches,\n",
    "                    callbacks=[early_stopping])"
   ]
  },
  {
   "cell_type": "markdown",
   "metadata": {
    "colab_type": "text",
    "id": "Eqc6YFpFvwIq"
   },
   "source": [
    "## Inference\n",
    "\n",
    "Now that the model is trained, we can use it to perform inference. Here we are going to perform inference on 30 images and print the labels in green if our model's prediction matches the true label. On the other hand, if our model's prediction doesn't match the true label, we print the label in red. "
   ]
  },
  {
   "cell_type": "code",
   "execution_count": 20,
   "metadata": {
    "colab": {
     "base_uri": "https://localhost:8080/",
     "height": 858
    },
    "colab_type": "code",
    "id": "_bA9AnH9vq2m",
    "outputId": "f4a0767d-a17a-4ddf-facd-4caa5aa3aac9"
   },
   "outputs": [
    {
     "data": {
      "image/png": "[encoded data removed]",
      "text/plain": [
       "<Figure size 720x1080 with 30 Axes>"
      ]
     },
     "metadata": {
      "image/png": {
       "height": 825,
       "width": 572
      },
      "needs_background": "light"
     },
     "output_type": "display_data"
    }
   ],
   "source": [
    "for image_batch, label_batch in testing_batches.take(1):\n",
    "    ps = model.predict(image_batch)\n",
    "    images = image_batch.numpy().squeeze()\n",
    "    labels = label_batch.numpy()\n",
    "\n",
    "\n",
    "plt.figure(figsize=(10,15))\n",
    "\n",
    "for n in range(30):\n",
    "    plt.subplot(6,5,n+1)\n",
    "    plt.imshow(images[n], cmap = plt.cm.binary)\n",
    "    color = 'green' if np.argmax(ps[n]) == labels[n] else 'red'\n",
    "    plt.title(class_names[np.argmax(ps[n])], color=color)\n",
    "    plt.axis('off')"
   ]
  },
  {
   "cell_type": "markdown",
   "metadata": {
    "colab_type": "text",
    "id": "DcBmIg4Sdri_"
   },
   "source": [
    "## Next Up!\n",
    "\n",
    "In the next lesson, we'll see how to save our trained models. In general, you won't want to train a model every time you need it. Instead, you'll train once, save it, then load the model when you want to train more or use it for inference."
   ]
  },
  {
   "cell_type": "code",
   "execution_count": null,
   "metadata": {
    "colab": {},
    "colab_type": "code",
    "id": "nQdG3m0N9yDl"
   },
   "outputs": [],
   "source": []
  }
 ],
 "metadata": {
  "accelerator": "GPU",
  "colab": {
   "collapsed_sections": [],
   "name": "Part 5 - Inference and Validation (Solution).ipynb",
   "provenance": []
  },
  "kernelspec": {
   "display_name": "Python 3",
   "language": "python",
   "name": "python3"
  },
  "language_info": {
   "codemirror_mode": {
    "name": "ipython",
    "version": 3
   },
   "file_extension": ".py",
   "mimetype": "text/x-python",
   "name": "python",
   "nbconvert_exporter": "python",
   "pygments_lexer": "ipython3",
   "version": "3.7.7"
  }
 },
 "nbformat": 4,
 "nbformat_minor": 1
}
